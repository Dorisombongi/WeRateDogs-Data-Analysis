{
 "cells": [
  {
   "cell_type": "markdown",
   "metadata": {},
   "source": [
    "# Reporting: WeRateDogs wrangle_report"
   ]
  },
  {
   "cell_type": "markdown",
   "metadata": {},
   "source": [
    "This report explains the wrangling efforts used to assess and clean the datasets of the WeRateDogs data"
   ]
  },
  {
   "cell_type": "markdown",
   "metadata": {},
   "source": [
    "## Gathering Data"
   ]
  },
  {
   "cell_type": "markdown",
   "metadata": {},
   "source": [
    "Data was gathered using three different methods and stored separately;\n",
    "1. twitter archive enhanced dataframe was manually downloaded from the link given in the Udacity classrom and uploaded into the jupyter notebook. The dataframe was loaded directly from the link into the jupyter notebook.\n",
    "2. image predictions dataframe was downloaded programmatically using the request library.\n",
    "3. tweet json dataframe was downloade by querying Twitter API using Tweepy library and data was extracted programmatically from the json text file."
   ]
  },
  {
   "cell_type": "markdown",
   "metadata": {},
   "source": [
    "## Assessing Data"
   ]
  },
  {
   "cell_type": "markdown",
   "metadata": {},
   "source": [
    "The datasets were assessed both programmatically and visually using pandas in jupyter notebook and using excel. Eight quality issues and three tidiness issues were found."
   ]
  },
  {
   "cell_type": "markdown",
   "metadata": {},
   "source": [
    "## Cleaning Data"
   ]
  },
  {
   "cell_type": "markdown",
   "metadata": {},
   "source": [
    "The timestamp column data in the twitter archive enhanced dataframe was converted to datetime datatype."
   ]
  },
  {
   "cell_type": "markdown",
   "metadata": {},
   "source": [
    "The source column in the twitter archive enhanced dataframe has additional values which were dropped, For example from a href=\"http://twitter.com/download/iphone\" rel=\"nofollow\">Twitter for iPhone</a to Twitter for iPhone"
   ]
  },
  {
   "cell_type": "markdown",
   "metadata": {},
   "source": [
    "The name column in the twitter archive enhanced dataframe has names which are incorrect; names which are lowercase like 'such','a', 'quite','an' and 'the'. The names with lowercase were renamed to None"
   ]
  },
  {
   "cell_type": "markdown",
   "metadata": {},
   "source": [
    "Tweet ids with replies twitter archive enhanced dataframe were deleted as per the project requirements and the in_reply_to_status_id and in_reply_to_user_id columns were dropped."
   ]
  },
  {
   "cell_type": "markdown",
   "metadata": {},
   "source": [
    "Tweets with retweets twitter archive enhanced dataframe were also deleted as per the project requirements and the retweeted_status_id, retweeted_status_user_id, retweeted_status_timestamp columns were dropped."
   ]
  },
  {
   "cell_type": "markdown",
   "metadata": {},
   "source": [
    "Tweets with missing data in the expanded_urls column in the twitter archive enhanced dataframe were dropped."
   ]
  },
  {
   "cell_type": "markdown",
   "metadata": {},
   "source": [
    "The rating_numerator column in the twitter archive enhanced dataframe has unexpected values; values greater than 15 are unexpected and i dropped tweets with values greater than 15."
   ]
  },
  {
   "cell_type": "markdown",
   "metadata": {},
   "source": [
    "Remaining tweets twitter archive enhanced dataframe with rating_denominator values that are greater than or less than 10 were dropped and the rating denominator column remained with 10 in all tweets."
   ]
  },
  {
   "cell_type": "markdown",
   "metadata": {},
   "source": [
    "The doggo, floofer, pupper and puppo columns in the twitter archive enhanced dataframe were melted into one column named dog_stage and the four columns were dropped. Tweets with two dog stages were edited manually and i kept each first dog stage listed in them to avoiding messing our data and manually changing the second dog stage in the tweets to None."
   ]
  },
  {
   "cell_type": "markdown",
   "metadata": {},
   "source": [
    "The p1, p1_conf, p1_dog, p2 ,p2_conf ,p2_dog, p3, p3_conf, p3_dog columns in the image prediction dataframe were melt into two columns; breed and p_confidence. The breed with the highest confidence level was copied into the breed column and the associated confidence level into the p_confidence column. And where p1_dog, p2_dog and p3_dog are False, breed was set as 'none' and confidence to 0."
   ]
  },
  {
   "cell_type": "markdown",
   "metadata": {},
   "source": [
    "The twitter archive enhanced and tweet json dataframes were merged using the left join where the merge of the tweet_df table with the archive_df table caused the data types for retweet_count and favorite_count to change from int64 to float64 with missing data for these fields where tweets without favorite count were dropped. retweet_count and favorite_count columns were changed back to int type.\n",
    "Inner join was used to merge the merged archive twitter and tweet_json dataframe to image predictions dataframe on tweet_ids so as to only keep records that have matching values in both tables(tweet_ids)\n",
    "The merged dataset was then saved to a CSV file named 'twitter_archive_master.csv'"
   ]
  }
 ],
 "metadata": {
  "kernelspec": {
   "display_name": "Python 3",
   "language": "python",
   "name": "python3"
  },
  "language_info": {
   "codemirror_mode": {
    "name": "ipython",
    "version": 3
   },
   "file_extension": ".py",
   "mimetype": "text/x-python",
   "name": "python",
   "nbconvert_exporter": "python",
   "pygments_lexer": "ipython3",
   "version": "3.6.3"
  }
 },
 "nbformat": 4,
 "nbformat_minor": 2
}
